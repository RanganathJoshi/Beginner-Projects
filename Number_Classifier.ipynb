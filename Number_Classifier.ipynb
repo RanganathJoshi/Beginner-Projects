{
  "nbformat": 4,
  "nbformat_minor": 0,
  "metadata": {
    "colab": {
      "name": "Number_Classifier.ipynb",
      "provenance": [],
      "authorship_tag": "ABX9TyO5qOzdHLb8CPlfhcx5f1m7",
      "include_colab_link": true
    },
    "kernelspec": {
      "name": "python3",
      "display_name": "Python 3"
    },
    "language_info": {
      "name": "python"
    }
  },
  "cells": [
    {
      "cell_type": "markdown",
      "metadata": {
        "id": "view-in-github",
        "colab_type": "text"
      },
      "source": [
        "<a href=\"https://colab.research.google.com/github/RanganathJoshi/Fraud-Detection/blob/main/Number_Classifier.ipynb\" target=\"_parent\"><img src=\"https://colab.research.google.com/assets/colab-badge.svg\" alt=\"Open In Colab\"/></a>"
      ]
    },
    {
      "cell_type": "code",
      "execution_count": 1,
      "metadata": {
        "id": "UKERcOojAAtt"
      },
      "outputs": [],
      "source": [
        "import tensorflow as tf\n",
        "from tensorflow.keras.datasets import mnist\n",
        "import matplotlib.pyplot as plt\n",
        "import seaborn as sns\n",
        "import pandas as ps\n",
        "\n",
        "# The data has already been sorted into training and test sets for us\n",
        "(x_train, y_train), (x_test, y_test) = mnist.load_data()"
      ]
    },
    {
      "cell_type": "code",
      "source": [
        "#Printing the shapes\n",
        "x_train.shape,x_test.shape,y_train.shape,y_test.shape"
      ],
      "metadata": {
        "colab": {
          "base_uri": "https://localhost:8080/"
        },
        "id": "ldS7hXG8BLmq",
        "outputId": "03d41638-d3ed-4867-db80-e26c37811812"
      },
      "execution_count": 2,
      "outputs": [
        {
          "output_type": "execute_result",
          "data": {
            "text/plain": [
              "((60000, 28, 28), (10000, 28, 28), (60000,), (10000,))"
            ]
          },
          "metadata": {},
          "execution_count": 2
        }
      ]
    },
    {
      "cell_type": "code",
      "source": [
        "plt.imshow(x_train[6],cmap=plt.cm.gray),"
      ],
      "metadata": {
        "colab": {
          "base_uri": "https://localhost:8080/",
          "height": 282
        },
        "id": "8NwonkkpBWvw",
        "outputId": "b9b0713d-43c3-4317-f1a3-969a7a46cf2b"
      },
      "execution_count": 3,
      "outputs": [
        {
          "output_type": "execute_result",
          "data": {
            "text/plain": [
              "(<matplotlib.image.AxesImage at 0x7f4848058410>,)"
            ]
          },
          "metadata": {},
          "execution_count": 3
        },
        {
          "output_type": "display_data",
          "data": {
            "image/png": "[encoded data removed]",
            "text/plain": [
              "<Figure size 432x288 with 1 Axes>"
            ]
          },
          "metadata": {
            "needs_background": "light"
          }
        }
      ]
    },
    {
      "cell_type": "code",
      "source": [
        "#plotting its respective label\n",
        "y_train[6]"
      ],
      "metadata": {
        "colab": {
          "base_uri": "https://localhost:8080/"
        },
        "id": "K8UO9MmmBnFw",
        "outputId": "72cb79bb-ed8d-437d-c883-6fabf59dc699"
      },
      "execution_count": 4,
      "outputs": [
        {
          "output_type": "execute_result",
          "data": {
            "text/plain": [
              "1"
            ]
          },
          "metadata": {},
          "execution_count": 4
        }
      ]
    },
    {
      "cell_type": "code",
      "source": [
        "label=[1,2,3,4,5,6,7,8,9]"
      ],
      "metadata": {
        "id": "edVdiK_YB9OA"
      },
      "execution_count": 5,
      "outputs": []
    },
    {
      "cell_type": "code",
      "source": [
        "#Size of Each image???\n",
        "x_train[6].shape"
      ],
      "metadata": {
        "colab": {
          "base_uri": "https://localhost:8080/"
        },
        "id": "rCVRUKifCSf4",
        "outputId": "0d403636-7065-4935-a2d0-36823fdf3db1"
      },
      "execution_count": 6,
      "outputs": [
        {
          "output_type": "execute_result",
          "data": {
            "text/plain": [
              "(28, 28)"
            ]
          },
          "metadata": {},
          "execution_count": 6
        }
      ]
    },
    {
      "cell_type": "code",
      "source": [
        "plt.imshow(x_train[6],cmap=plt.cm.gray)\n",
        "plt.title(y_train[6])"
      ],
      "metadata": {
        "colab": {
          "base_uri": "https://localhost:8080/",
          "height": 298
        },
        "id": "a1z3boeXCgcc",
        "outputId": "d3968b6d-4e52-4704-d7de-37703e67f1a4"
      },
      "execution_count": 7,
      "outputs": [
        {
          "output_type": "execute_result",
          "data": {
            "text/plain": [
              "Text(0.5, 1.0, '1')"
            ]
          },
          "metadata": {},
          "execution_count": 7
        },
        {
          "output_type": "display_data",
          "data": {
            "image/png": "[encoded data removed]",
            "text/plain": [
              "<Figure size 432x288 with 1 Axes>"
            ]
          },
          "metadata": {
            "needs_background": "light"
          }
        }
      ]
    },
    {
      "cell_type": "code",
      "source": [
        "#Displaying Random Image\n",
        "import random\n",
        "plt.figure(figsize=(7, 7))\n",
        "for k in range(4):\n",
        "  ax = plt.subplot(2, 2, k + 1)\n",
        "  i=random.choice(range(len(x_train)))\n",
        "  plt.imshow(x_train[i],cmap=plt.cm.gray)\n",
        "  plt.title(y_train[i])\n",
        "  plt.axis(False)"
      ],
      "metadata": {
        "colab": {
          "base_uri": "https://localhost:8080/",
          "height": 427
        },
        "id": "EewPnsYTDGLR",
        "outputId": "b575d091-0d5c-4487-d5ce-8edc4d1b07e7"
      },
      "execution_count": 8,
      "outputs": [
        {
          "output_type": "display_data",
          "data": {
            "image/png": "[encoded data removed]",
            "text/plain": [
              "<Figure size 504x504 with 4 Axes>"
            ]
          },
          "metadata": {
            "needs_background": "light"
          }
        }
      ]
    },
    {
      "cell_type": "code",
      "source": [
        "# Set random seed\n",
        "tf.random.set_seed(42)\n",
        "\n",
        "#Defining Model\n",
        "model=tf.keras.Sequential([\n",
        " tf.keras.layers.Flatten(input_shape=(28,28)),\n",
        " tf.keras.layers.Dense(4,activation='relu'),  \n",
        " tf.keras.layers.Dense(4,activation='relu'),  \n",
        " tf.keras.layers.Dense(10,activation='softmax')                           \n",
        "])\n",
        "\n",
        "#Compile\n",
        "model.compile(loss=tf.keras.losses.CategoricalCrossentropy(),\n",
        "              optimizer=tf.keras.optimizers.Adam(),\n",
        "              metrics=['accuracy'])\n",
        "\n",
        "history=model.fit(x_train,tf.one_hot(y_train,depth=10),epochs=20,validation_data=(x_test,tf.one_hot(y_test,depth=10)))"
      ],
      "metadata": {
        "colab": {
          "base_uri": "https://localhost:8080/"
        },
        "id": "FXbxrpGnJ8Bb",
        "outputId": "70b5dd29-46bd-4ee2-a55c-5de90f4727ed"
      },
      "execution_count": 9,
      "outputs": [
        {
          "output_type": "stream",
          "name": "stdout",
          "text": [
            "Epoch 1/20\n",
            "1875/1875 [==============================] - 4s 2ms/step - loss: 2.4993 - accuracy: 0.1116 - val_loss: 2.3002 - val_accuracy: 0.1141\n",
            "Epoch 2/20\n",
            "1875/1875 [==============================] - 3s 2ms/step - loss: 1.9961 - accuracy: 0.2120 - val_loss: 1.8645 - val_accuracy: 0.2302\n",
            "Epoch 3/20\n",
            "1875/1875 [==============================] - 4s 2ms/step - loss: 1.8145 - accuracy: 0.2559 - val_loss: 1.7891 - val_accuracy: 0.2805\n",
            "Epoch 4/20\n",
            "1875/1875 [==============================] - 4s 2ms/step - loss: 1.7783 - accuracy: 0.2692 - val_loss: 1.7779 - val_accuracy: 0.2855\n",
            "Epoch 5/20\n",
            "1875/1875 [==============================] - 4s 2ms/step - loss: 1.7456 - accuracy: 0.2859 - val_loss: 1.7218 - val_accuracy: 0.3233\n",
            "Epoch 6/20\n",
            "1875/1875 [==============================] - 3s 2ms/step - loss: 1.7096 - accuracy: 0.3090 - val_loss: 1.6834 - val_accuracy: 0.3064\n",
            "Epoch 7/20\n",
            "1875/1875 [==============================] - 4s 2ms/step - loss: 1.6440 - accuracy: 0.3339 - val_loss: 1.6045 - val_accuracy: 0.3440\n",
            "Epoch 8/20\n",
            "1875/1875 [==============================] - 4s 2ms/step - loss: 1.5435 - accuracy: 0.3791 - val_loss: 1.4513 - val_accuracy: 0.4056\n",
            "Epoch 9/20\n",
            "1875/1875 [==============================] - 4s 2ms/step - loss: 1.4216 - accuracy: 0.4181 - val_loss: 1.3794 - val_accuracy: 0.4169\n",
            "Epoch 10/20\n",
            "1875/1875 [==============================] - 4s 2ms/step - loss: 1.3319 - accuracy: 0.4747 - val_loss: 1.2813 - val_accuracy: 0.5086\n",
            "Epoch 11/20\n",
            "1875/1875 [==============================] - 3s 2ms/step - loss: 1.2368 - accuracy: 0.5300 - val_loss: 1.1854 - val_accuracy: 0.5494\n",
            "Epoch 12/20\n",
            "1875/1875 [==============================] - 4s 2ms/step - loss: 1.2006 - accuracy: 0.5440 - val_loss: 1.1621 - val_accuracy: 0.5576\n",
            "Epoch 13/20\n",
            "1875/1875 [==============================] - 4s 2ms/step - loss: 1.1844 - accuracy: 0.5458 - val_loss: 1.1459 - val_accuracy: 0.5608\n",
            "Epoch 14/20\n",
            "1875/1875 [==============================] - 4s 2ms/step - loss: 1.1734 - accuracy: 0.5519 - val_loss: 1.1584 - val_accuracy: 0.5545\n",
            "Epoch 15/20\n",
            "1875/1875 [==============================] - 4s 2ms/step - loss: 1.1670 - accuracy: 0.5538 - val_loss: 1.1546 - val_accuracy: 0.5707\n",
            "Epoch 16/20\n",
            "1875/1875 [==============================] - 4s 2ms/step - loss: 1.1625 - accuracy: 0.5573 - val_loss: 1.1445 - val_accuracy: 0.5733\n",
            "Epoch 17/20\n",
            "1875/1875 [==============================] - 4s 2ms/step - loss: 1.1599 - accuracy: 0.5580 - val_loss: 1.1349 - val_accuracy: 0.5710\n",
            "Epoch 18/20\n",
            "1875/1875 [==============================] - 4s 2ms/step - loss: 1.1577 - accuracy: 0.5558 - val_loss: 1.1441 - val_accuracy: 0.5601\n",
            "Epoch 19/20\n",
            "1875/1875 [==============================] - 4s 2ms/step - loss: 1.1542 - accuracy: 0.5557 - val_loss: 1.1278 - val_accuracy: 0.5733\n",
            "Epoch 20/20\n",
            "1875/1875 [==============================] - 4s 2ms/step - loss: 1.1540 - accuracy: 0.5570 - val_loss: 1.1514 - val_accuracy: 0.5667\n"
          ]
        }
      ]
    },
    {
      "cell_type": "markdown",
      "source": [
        "> Hmmm,Acucuracy is 55%\n",
        "> what can be done to improve it!?\n"
      ],
      "metadata": {
        "id": "OTkhqEdFOMa-"
      }
    },
    {
      "cell_type": "code",
      "source": [
        "model.summary()"
      ],
      "metadata": {
        "colab": {
          "base_uri": "https://localhost:8080/"
        },
        "id": "bWxAOFhGOWTh",
        "outputId": "7373b07f-b913-4f3f-c52c-88adeb7de7e3"
      },
      "execution_count": 10,
      "outputs": [
        {
          "output_type": "stream",
          "name": "stdout",
          "text": [
            "Model: \"sequential\"\n",
            "_________________________________________________________________\n",
            " Layer (type)                Output Shape              Param #   \n",
            "=================================================================\n",
            " flatten (Flatten)           (None, 784)               0         \n",
            "                                                                 \n",
            " dense (Dense)               (None, 4)                 3140      \n",
            "                                                                 \n",
            " dense_1 (Dense)             (None, 4)                 20        \n",
            "                                                                 \n",
            " dense_2 (Dense)             (None, 10)                50        \n",
            "                                                                 \n",
            "=================================================================\n",
            "Total params: 3,210\n",
            "Trainable params: 3,210\n",
            "Non-trainable params: 0\n",
            "_________________________________________________________________\n"
          ]
        }
      ]
    },
    {
      "cell_type": "code",
      "source": [
        "#How about if we normalize the values i,e scaling it between 0 and 1\n",
        "#Let's get the maximum and the minimun value of our Data\n",
        "x_train.max(),x_train.min()"
      ],
      "metadata": {
        "colab": {
          "base_uri": "https://localhost:8080/"
        },
        "id": "ISsIhlOWOaca",
        "outputId": "bc029be2-1d8d-4326-c058-c94283ae624d"
      },
      "execution_count": 11,
      "outputs": [
        {
          "output_type": "execute_result",
          "data": {
            "text/plain": [
              "(255, 0)"
            ]
          },
          "metadata": {},
          "execution_count": 11
        }
      ]
    },
    {
      "cell_type": "markdown",
      "source": [
        "> Max-255,min-0"
      ],
      "metadata": {
        "id": "WF4-b3IdPB0V"
      }
    },
    {
      "cell_type": "code",
      "source": [
        "#Normalizing the input data of both x_test and x_train\n",
        "norm_x_train=x_train/255.0\n",
        "norm_x_test=x_test/255.0\n",
        "norm_x_train.min(),norm_x_test.max()"
      ],
      "metadata": {
        "colab": {
          "base_uri": "https://localhost:8080/"
        },
        "id": "g3wktkYuPGDZ",
        "outputId": "b9a8229e-e61a-439a-b61a-e5bb38aee071"
      },
      "execution_count": 12,
      "outputs": [
        {
          "output_type": "execute_result",
          "data": {
            "text/plain": [
              "(0.0, 1.0)"
            ]
          },
          "metadata": {},
          "execution_count": 12
        }
      ]
    },
    {
      "cell_type": "code",
      "source": [
        "y_prob=model.predict(x_test)\n",
        "label[tf.argmax(y_prob[0])]"
      ],
      "metadata": {
        "colab": {
          "base_uri": "https://localhost:8080/"
        },
        "id": "QzJTB7AYUPYB",
        "outputId": "0638fabd-b82e-4889-c489-4b100989c84d"
      },
      "execution_count": 31,
      "outputs": [
        {
          "output_type": "execute_result",
          "data": {
            "text/plain": [
              "8"
            ]
          },
          "metadata": {},
          "execution_count": 31
        }
      ]
    },
    {
      "cell_type": "markdown",
      "source": [
        "> AS you Can see,the data is been scaled to the values 0 and 1 "
      ],
      "metadata": {
        "id": "dat9Aj6hPgx-"
      }
    },
    {
      "cell_type": "code",
      "source": [
        "#Lets feed this data into the model and check the acuuracy\n",
        "\n"
      ],
      "metadata": {
        "id": "3aUgCsCEPwUh"
      },
      "execution_count": 13,
      "outputs": []
    },
    {
      "cell_type": "code",
      "source": [
        "# Set random seed\n",
        "tf.random.set_seed(42)\n",
        "\n",
        "#Defining Model\n",
        "model_2=tf.keras.Sequential([\n",
        " tf.keras.layers.Flatten(input_shape=(28,28)),\n",
        " tf.keras.layers.Dense(4,activation='relu'),  \n",
        " tf.keras.layers.Dense(4,activation='relu'),  \n",
        " tf.keras.layers.Dense(10,activation='softmax')                           \n",
        "])\n",
        "\n",
        "#Compile\n",
        "model_2.compile(loss=tf.keras.losses.CategoricalCrossentropy(),\n",
        "              optimizer=tf.keras.optimizers.Adam(),\n",
        "              metrics=['accuracy'])\n",
        "\n",
        "history_1=model_2.fit(norm_x_train,tf.one_hot(y_train,depth=10),epochs=40,validation_data=(norm_x_test,tf.one_hot(y_test,depth=10)))"
      ],
      "metadata": {
        "colab": {
          "base_uri": "https://localhost:8080/"
        },
        "outputId": "58b3a10c-5f3f-4820-ba9e-ba38ad064b5a",
        "id": "4eBQwtAHP5Mr"
      },
      "execution_count": 79,
      "outputs": [
        {
          "output_type": "stream",
          "name": "stdout",
          "text": [
            "Epoch 1/40\n",
            "1875/1875 [==============================] - 4s 2ms/step - loss: 1.0472 - accuracy: 0.6442 - val_loss: 0.7344 - val_accuracy: 0.7569\n",
            "Epoch 2/40\n",
            "1875/1875 [==============================] - 4s 2ms/step - loss: 0.6970 - accuracy: 0.7717 - val_loss: 0.6814 - val_accuracy: 0.7860\n",
            "Epoch 3/40\n",
            "1875/1875 [==============================] - 4s 2ms/step - loss: 0.6434 - accuracy: 0.8000 - val_loss: 0.6276 - val_accuracy: 0.8119\n",
            "Epoch 4/40\n",
            "1875/1875 [==============================] - 4s 2ms/step - loss: 0.6126 - accuracy: 0.8127 - val_loss: 0.6022 - val_accuracy: 0.8223\n",
            "Epoch 5/40\n",
            "1875/1875 [==============================] - 4s 2ms/step - loss: 0.5921 - accuracy: 0.8207 - val_loss: 0.5926 - val_accuracy: 0.8231\n",
            "Epoch 6/40\n",
            "1875/1875 [==============================] - 4s 2ms/step - loss: 0.5752 - accuracy: 0.8272 - val_loss: 0.5817 - val_accuracy: 0.8277\n",
            "Epoch 7/40\n",
            "1875/1875 [==============================] - 4s 2ms/step - loss: 0.5625 - accuracy: 0.8316 - val_loss: 0.5828 - val_accuracy: 0.8275\n",
            "Epoch 8/40\n",
            "1875/1875 [==============================] - 4s 2ms/step - loss: 0.5533 - accuracy: 0.8358 - val_loss: 0.5635 - val_accuracy: 0.8369\n",
            "Epoch 9/40\n",
            "1875/1875 [==============================] - 4s 2ms/step - loss: 0.5450 - accuracy: 0.8379 - val_loss: 0.5597 - val_accuracy: 0.8398\n",
            "Epoch 10/40\n",
            "1875/1875 [==============================] - 4s 2ms/step - loss: 0.5385 - accuracy: 0.8392 - val_loss: 0.5536 - val_accuracy: 0.8397\n",
            "Epoch 11/40\n",
            "1875/1875 [==============================] - 4s 2ms/step - loss: 0.5320 - accuracy: 0.8415 - val_loss: 0.5538 - val_accuracy: 0.8394\n",
            "Epoch 12/40\n",
            "1875/1875 [==============================] - 4s 2ms/step - loss: 0.5269 - accuracy: 0.8433 - val_loss: 0.5486 - val_accuracy: 0.8399\n",
            "Epoch 13/40\n",
            "1875/1875 [==============================] - 4s 2ms/step - loss: 0.5223 - accuracy: 0.8461 - val_loss: 0.5426 - val_accuracy: 0.8450\n",
            "Epoch 14/40\n",
            "1875/1875 [==============================] - 4s 2ms/step - loss: 0.5181 - accuracy: 0.8469 - val_loss: 0.5441 - val_accuracy: 0.8456\n",
            "Epoch 15/40\n",
            "1875/1875 [==============================] - 4s 2ms/step - loss: 0.5142 - accuracy: 0.8483 - val_loss: 0.5391 - val_accuracy: 0.8457\n",
            "Epoch 16/40\n",
            "1875/1875 [==============================] - 4s 2ms/step - loss: 0.5100 - accuracy: 0.8504 - val_loss: 0.5424 - val_accuracy: 0.8455\n",
            "Epoch 17/40\n",
            "1875/1875 [==============================] - 4s 2ms/step - loss: 0.5074 - accuracy: 0.8495 - val_loss: 0.5354 - val_accuracy: 0.8488\n",
            "Epoch 18/40\n",
            "1875/1875 [==============================] - 4s 2ms/step - loss: 0.5041 - accuracy: 0.8513 - val_loss: 0.5336 - val_accuracy: 0.8481\n",
            "Epoch 19/40\n",
            "1875/1875 [==============================] - 4s 2ms/step - loss: 0.5010 - accuracy: 0.8524 - val_loss: 0.5260 - val_accuracy: 0.8531\n",
            "Epoch 20/40\n",
            "1875/1875 [==============================] - 4s 2ms/step - loss: 0.4991 - accuracy: 0.8538 - val_loss: 0.5230 - val_accuracy: 0.8520\n",
            "Epoch 21/40\n",
            "1875/1875 [==============================] - 4s 2ms/step - loss: 0.4971 - accuracy: 0.8552 - val_loss: 0.5281 - val_accuracy: 0.8515\n",
            "Epoch 22/40\n",
            "1875/1875 [==============================] - 4s 2ms/step - loss: 0.4944 - accuracy: 0.8570 - val_loss: 0.5255 - val_accuracy: 0.8527\n",
            "Epoch 23/40\n",
            "1875/1875 [==============================] - 4s 2ms/step - loss: 0.4927 - accuracy: 0.8570 - val_loss: 0.5250 - val_accuracy: 0.8551\n",
            "Epoch 24/40\n",
            "1875/1875 [==============================] - 4s 2ms/step - loss: 0.4900 - accuracy: 0.8587 - val_loss: 0.5272 - val_accuracy: 0.8533\n",
            "Epoch 25/40\n",
            "1875/1875 [==============================] - 4s 2ms/step - loss: 0.4889 - accuracy: 0.8591 - val_loss: 0.5261 - val_accuracy: 0.8557\n",
            "Epoch 26/40\n",
            "1875/1875 [==============================] - 4s 2ms/step - loss: 0.4873 - accuracy: 0.8599 - val_loss: 0.5226 - val_accuracy: 0.8556\n",
            "Epoch 27/40\n",
            "1875/1875 [==============================] - 4s 2ms/step - loss: 0.4873 - accuracy: 0.8592 - val_loss: 0.5201 - val_accuracy: 0.8563\n",
            "Epoch 28/40\n",
            "1875/1875 [==============================] - 4s 2ms/step - loss: 0.4854 - accuracy: 0.8603 - val_loss: 0.5243 - val_accuracy: 0.8553\n",
            "Epoch 29/40\n",
            "1875/1875 [==============================] - 4s 2ms/step - loss: 0.4852 - accuracy: 0.8601 - val_loss: 0.5192 - val_accuracy: 0.8588\n",
            "Epoch 30/40\n",
            "1875/1875 [==============================] - 4s 2ms/step - loss: 0.4841 - accuracy: 0.8606 - val_loss: 0.5252 - val_accuracy: 0.8540\n",
            "Epoch 31/40\n",
            "1875/1875 [==============================] - 4s 2ms/step - loss: 0.4825 - accuracy: 0.8604 - val_loss: 0.5295 - val_accuracy: 0.8547\n",
            "Epoch 32/40\n",
            "1875/1875 [==============================] - 4s 2ms/step - loss: 0.4820 - accuracy: 0.8608 - val_loss: 0.5167 - val_accuracy: 0.8594\n",
            "Epoch 33/40\n",
            "1875/1875 [==============================] - 4s 2ms/step - loss: 0.4817 - accuracy: 0.8613 - val_loss: 0.5187 - val_accuracy: 0.8565\n",
            "Epoch 34/40\n",
            "1875/1875 [==============================] - 4s 2ms/step - loss: 0.4805 - accuracy: 0.8612 - val_loss: 0.5270 - val_accuracy: 0.8554\n",
            "Epoch 35/40\n",
            "1875/1875 [==============================] - 4s 2ms/step - loss: 0.4800 - accuracy: 0.8622 - val_loss: 0.5170 - val_accuracy: 0.8576\n",
            "Epoch 36/40\n",
            "1875/1875 [==============================] - 4s 2ms/step - loss: 0.4804 - accuracy: 0.8622 - val_loss: 0.5230 - val_accuracy: 0.8608\n",
            "Epoch 37/40\n",
            "1875/1875 [==============================] - 4s 2ms/step - loss: 0.4795 - accuracy: 0.8622 - val_loss: 0.5181 - val_accuracy: 0.8545\n",
            "Epoch 38/40\n",
            "1875/1875 [==============================] - 4s 2ms/step - loss: 0.4786 - accuracy: 0.8622 - val_loss: 0.5258 - val_accuracy: 0.8577\n",
            "Epoch 39/40\n",
            "1875/1875 [==============================] - 4s 2ms/step - loss: 0.4777 - accuracy: 0.8623 - val_loss: 0.5149 - val_accuracy: 0.8599\n",
            "Epoch 40/40\n",
            "1875/1875 [==============================] - 4s 2ms/step - loss: 0.4771 - accuracy: 0.8633 - val_loss: 0.5157 - val_accuracy: 0.8592\n"
          ]
        }
      ]
    },
    {
      "cell_type": "markdown",
      "source": [
        "> F!!\n",
        ">Accuracy is almost 86% WITH just 20 epochs!!\n",
        "> Noiceeeeeeeeeeeeeee"
      ],
      "metadata": {
        "id": "LqsxzjSwQB2E"
      }
    },
    {
      "cell_type": "code",
      "source": [
        "import pandas as pd\n",
        "#Now,lets visualize the cost function of norm and non_norm data\n",
        "norm_hist=pd.DataFrame(history_1.history)\n",
        "norm_hist.head()\n",
        "non_norm_hist=pd.DataFrame(history.history)\n",
        "non_norm_hist.head()"
      ],
      "metadata": {
        "colab": {
          "base_uri": "https://localhost:8080/",
          "height": 206
        },
        "id": "JqJ24EECQe7t",
        "outputId": "64ea0af0-2fcf-4df1-b98e-da20caee2855"
      },
      "execution_count": 24,
      "outputs": [
        {
          "output_type": "execute_result",
          "data": {
            "text/html": [
              "\n",
              "  <div id=\"df-e85db501-3ab7-4ddd-b816-dd371c3ba31c\">\n",
              "    <div class=\"colab-df-container\">\n",
              "      <div>\n",
              "<style scoped>\n",
              "    .dataframe tbody tr th:only-of-type {\n",
              "        vertical-align: middle;\n",
              "    }\n",
              "\n",
              "    .dataframe tbody tr th {\n",
              "        vertical-align: top;\n",
              "    }\n",
              "\n",
              "    .dataframe thead th {\n",
              "        text-align: right;\n",
              "    }\n",
              "</style>\n",
              "<table border=\"1\" class=\"dataframe\">\n",
              "  <thead>\n",
              "    <tr style=\"text-align: right;\">\n",
              "      <th></th>\n",
              "      <th>loss</th>\n",
              "      <th>accuracy</th>\n",
              "      <th>val_loss</th>\n",
              "      <th>val_accuracy</th>\n",
              "    </tr>\n",
              "  </thead>\n",
              "  <tbody>\n",
              "    <tr>\n",
              "      <th>0</th>\n",
              "      <td>2.499331</td>\n",
              "      <td>0.111617</td>\n",
              "      <td>2.300165</td>\n",
              "      <td>0.1141</td>\n",
              "    </tr>\n",
              "    <tr>\n",
              "      <th>1</th>\n",
              "      <td>1.996063</td>\n",
              "      <td>0.211983</td>\n",
              "      <td>1.864512</td>\n",
              "      <td>0.2302</td>\n",
              "    </tr>\n",
              "    <tr>\n",
              "      <th>2</th>\n",
              "      <td>1.814517</td>\n",
              "      <td>0.255933</td>\n",
              "      <td>1.789140</td>\n",
              "      <td>0.2805</td>\n",
              "    </tr>\n",
              "    <tr>\n",
              "      <th>3</th>\n",
              "      <td>1.778272</td>\n",
              "      <td>0.269183</td>\n",
              "      <td>1.777872</td>\n",
              "      <td>0.2855</td>\n",
              "    </tr>\n",
              "    <tr>\n",
              "      <th>4</th>\n",
              "      <td>1.745621</td>\n",
              "      <td>0.285900</td>\n",
              "      <td>1.721843</td>\n",
              "      <td>0.3233</td>\n",
              "    </tr>\n",
              "  </tbody>\n",
              "</table>\n",
              "</div>\n",
              "      <button class=\"colab-df-convert\" onclick=\"convertToInteractive('df-e85db501-3ab7-4ddd-b816-dd371c3ba31c')\"\n",
              "              title=\"Convert this dataframe to an interactive table.\"\n",
              "              style=\"display:none;\">\n",
              "        \n",
              "  <svg xmlns=\"http://www.w3.org/2000/svg\" height=\"24px\"viewBox=\"0 0 24 24\"\n",
              "       width=\"24px\">\n",
              "    <path d=\"M0 0h24v24H0V0z\" fill=\"none\"/>\n",
              "    <path d=\"M18.56 5.44l.94 2.06.94-2.06 2.06-.94-2.06-.94-.94-2.06-.94 2.06-2.06.94zm-11 1L8.5 8.5l.94-2.06 2.06-.94-2.06-.94L8.5 2.5l-.94 2.06-2.06.94zm10 10l.94 2.06.94-2.06 2.06-.94-2.06-.94-.94-2.06-.94 2.06-2.06.94z\"/><path d=\"M17.41 7.96l-1.37-1.37c-.4-.4-.92-.59-1.43-.59-.52 0-1.04.2-1.43.59L10.3 9.45l-7.72 7.72c-.78.78-.78 2.05 0 2.83L4 21.41c.39.39.9.59 1.41.59.51 0 1.02-.2 1.41-.59l7.78-7.78 2.81-2.81c.8-.78.8-2.07 0-2.86zM5.41 20L4 18.59l7.72-7.72 1.47 1.35L5.41 20z\"/>\n",
              "  </svg>\n",
              "      </button>\n",
              "      \n",
              "  <style>\n",
              "    .colab-df-container {\n",
              "      display:flex;\n",
              "      flex-wrap:wrap;\n",
              "      gap: 12px;\n",
              "    }\n",
              "\n",
              "    .colab-df-convert {\n",
              "      background-color: #E8F0FE;\n",
              "      border: none;\n",
              "      border-radius: 50%;\n",
              "      cursor: pointer;\n",
              "      display: none;\n",
              "      fill: #1967D2;\n",
              "      height: 32px;\n",
              "      padding: 0 0 0 0;\n",
              "      width: 32px;\n",
              "    }\n",
              "\n",
              "    .colab-df-convert:hover {\n",
              "      background-color: #E2EBFA;\n",
              "      box-shadow: 0px 1px 2px rgba(60, 64, 67, 0.3), 0px 1px 3px 1px rgba(60, 64, 67, 0.15);\n",
              "      fill: #174EA6;\n",
              "    }\n",
              "\n",
              "    [theme=dark] .colab-df-convert {\n",
              "      background-color: #3B4455;\n",
              "      fill: #D2E3FC;\n",
              "    }\n",
              "\n",
              "    [theme=dark] .colab-df-convert:hover {\n",
              "      background-color: #434B5C;\n",
              "      box-shadow: 0px 1px 3px 1px rgba(0, 0, 0, 0.15);\n",
              "      filter: drop-shadow(0px 1px 2px rgba(0, 0, 0, 0.3));\n",
              "      fill: #FFFFFF;\n",
              "    }\n",
              "  </style>\n",
              "\n",
              "      <script>\n",
              "        const buttonEl =\n",
              "          document.querySelector('#df-e85db501-3ab7-4ddd-b816-dd371c3ba31c button.colab-df-convert');\n",
              "        buttonEl.style.display =\n",
              "          google.colab.kernel.accessAllowed ? 'block' : 'none';\n",
              "\n",
              "        async function convertToInteractive(key) {\n",
              "          const element = document.querySelector('#df-e85db501-3ab7-4ddd-b816-dd371c3ba31c');\n",
              "          const dataTable =\n",
              "            await google.colab.kernel.invokeFunction('convertToInteractive',\n",
              "                                                     [key], {});\n",
              "          if (!dataTable) return;\n",
              "\n",
              "          const docLinkHtml = 'Like what you see? Visit the ' +\n",
              "            '<a target=\"_blank\" href=https://colab.research.google.com/notebooks/data_table.ipynb>data table notebook</a>'\n",
              "            + ' to learn more about interactive tables.';\n",
              "          element.innerHTML = '';\n",
              "          dataTable['output_type'] = 'display_data';\n",
              "          await google.colab.output.renderOutput(dataTable, element);\n",
              "          const docLink = document.createElement('div');\n",
              "          docLink.innerHTML = docLinkHtml;\n",
              "          element.appendChild(docLink);\n",
              "        }\n",
              "      </script>\n",
              "    </div>\n",
              "  </div>\n",
              "  "
            ],
            "text/plain": [
              "       loss  accuracy  val_loss  val_accuracy\n",
              "0  2.499331  0.111617  2.300165        0.1141\n",
              "1  1.996063  0.211983  1.864512        0.2302\n",
              "2  1.814517  0.255933  1.789140        0.2805\n",
              "3  1.778272  0.269183  1.777872        0.2855\n",
              "4  1.745621  0.285900  1.721843        0.3233"
            ]
          },
          "metadata": {},
          "execution_count": 24
        }
      ]
    },
    {
      "cell_type": "code",
      "source": [
        "norm_hist.plot(label='Stats of normalized Data')"
      ],
      "metadata": {
        "colab": {
          "base_uri": "https://localhost:8080/",
          "height": 282
        },
        "id": "FnZDQx39Rkm5",
        "outputId": "5a76722c-704d-4ab0-8a6d-0aad29bf29a5"
      },
      "execution_count": 25,
      "outputs": [
        {
          "output_type": "execute_result",
          "data": {
            "text/plain": [
              "<matplotlib.axes._subplots.AxesSubplot at 0x7f4841f3c810>"
            ]
          },
          "metadata": {},
          "execution_count": 25
        },
        {
          "output_type": "display_data",
          "data": {
            "image/png": "[encoded data removed]",
            "text/plain": [
              "<Figure size 432x288 with 1 Axes>"
            ]
          },
          "metadata": {
            "needs_background": "light"
          }
        }
      ]
    },
    {
      "cell_type": "code",
      "source": [
        "non_norm_hist.plot(label='Stats of nom_normalized Data')"
      ],
      "metadata": {
        "colab": {
          "base_uri": "https://localhost:8080/",
          "height": 282
        },
        "id": "V4GsM1eVSIal",
        "outputId": "52548692-1777-486d-b8d1-0aa2824e8727"
      },
      "execution_count": 26,
      "outputs": [
        {
          "output_type": "execute_result",
          "data": {
            "text/plain": [
              "<matplotlib.axes._subplots.AxesSubplot at 0x7f483eb19e50>"
            ]
          },
          "metadata": {},
          "execution_count": 26
        },
        {
          "output_type": "display_data",
          "data": {
            "image/png": "[encoded data removed]",
            "text/plain": [
              "<Figure size 432x288 with 1 Axes>"
            ]
          },
          "metadata": {
            "needs_background": "light"
          }
        }
      ]
    },
    {
      "cell_type": "markdown",
      "source": [
        "* As you can see,non Norm Data loss is higher than the norm one"
      ],
      "metadata": {
        "id": "RGuhozwBS0xW"
      }
    },
    {
      "cell_type": "code",
      "source": [
        "#plot the random image ,and also also to show whether the predictes image is correct or not!\n",
        "def plot_random_image(model_2,image,y_test,labels):\n",
        "  import random\n",
        "  i=random.choice(range(len(image)))\n",
        "  prob=model_2.predict(image[i].reshape(1, 28, 28))\n",
        "  pred=model_2.predict(image[i].reshape(1, 28, 28)).argmax()\n",
        "  true=y_test[i]\n",
        "\n",
        "  #Plottig the Image\n",
        "  plt.imshow(image[i],cmap=plt.cm.gray)\n",
        "\n",
        "  #Change the color of the labels,if True\n",
        "  if pred==true:\n",
        "    color='green'\n",
        "  else:\n",
        "    color='red'\n",
        "\n",
        "\n",
        "  #providing title and axis to the image\n",
        "  plt.xlabel('predicted: {} with probablity of {:2.0f}% and True label is {}'.format(pred,tf.reduce_max(prob)*100,true),color=color)"
      ],
      "metadata": {
        "id": "7JKUQNO1S-b2"
      },
      "execution_count": 94,
      "outputs": []
    },
    {
      "cell_type": "code",
      "source": [
        "plot_random_image(model_2,norm_x_test,y_test,label)"
      ],
      "metadata": {
        "colab": {
          "base_uri": "https://localhost:8080/",
          "height": 279
        },
        "id": "B9NHveqKX4KU",
        "outputId": "126c1a60-8fc2-4b98-f8a3-011f53db07f2"
      },
      "execution_count": 100,
      "outputs": [
        {
          "output_type": "display_data",
          "data": {
            "image/png": "[encoded data removed]",
            "text/plain": [
              "<Figure size 432x288 with 1 Axes>"
            ]
          },
          "metadata": {
            "needs_background": "light"
          }
        }
      ]
    },
    {
      "cell_type": "markdown",
      "source": [
        "#Accuracy bari 85% ide ashte :("
      ],
      "metadata": {
        "id": "sejod0THiXVz"
      }
    },
    {
      "cell_type": "code",
      "source": [
        ""
      ],
      "metadata": {
        "id": "66IWB4lnib7a"
      },
      "execution_count": null,
      "outputs": []
    }
  ]
}